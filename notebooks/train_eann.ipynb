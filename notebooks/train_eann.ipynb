{
 "cells": [
  {
   "cell_type": "markdown",
   "metadata": {},
   "source": [
    "# Train your own eANN\n",
    "\n",
    "In this notebook we show, how you can train your own ensemble network, with your own data, and your preferred infernce algorithms.\n",
    "\n",
    "TBD"
   ]
  }
 ],
 "metadata": {
  "language_info": {
   "name": "python"
  },
  "orig_nbformat": 4
 },
 "nbformat": 4,
 "nbformat_minor": 2
}
